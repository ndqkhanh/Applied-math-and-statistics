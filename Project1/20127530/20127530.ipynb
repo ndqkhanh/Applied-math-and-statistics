{
 "cells": [
  {
   "cell_type": "markdown",
   "id": "f8e9f2cf",
   "metadata": {},
   "source": [
    "# Import modules"
   ]
  },
  {
   "cell_type": "code",
   "execution_count": 1,
   "id": "8de6aec8",
   "metadata": {},
   "outputs": [],
   "source": [
    "import numpy as np\n",
    "from PIL import Image\n",
    "import matplotlib.pyplot as plt\n",
    "from sklearn.cluster import KMeans"
   ]
  },
  {
   "cell_type": "markdown",
   "id": "81752e9c",
   "metadata": {},
   "source": [
    "# Initialize centroids random or in_pixels"
   ]
  },
  {
   "cell_type": "code",
   "execution_count": 2,
   "id": "0aa85a7f",
   "metadata": {},
   "outputs": [],
   "source": [
    "def kmeans_init_centers(img_1d, k_clusters, init_centroids):\n",
    "    # if centroid is a random pixels of original image we will pick k_clusters pixels in img_1d \n",
    "    if init_centroids == 'in_pixels':\n",
    "        return img_1d[np.random.choice(img_1d.shape[0], k_clusters, replace=False)]\n",
    "    # if centroid has `c` channels, with `c` is initial random in [0,255]\n",
    "    # then we will pick k_clusters tuple of img_1d.shape[1] values in range(256)\n",
    "    if init_centroids == 'random':\n",
    "        return np.random.choice(256, size = (k_clusters, img_1d.shape[1]), replace=False)"
   ]
  },
  {
   "cell_type": "markdown",
   "id": "6e0bd312",
   "metadata": {},
   "source": [
    "# Calculate Euclidean distance between 2 points"
   ]
  },
  {
   "cell_type": "markdown",
   "id": "e0034bfe",
   "metadata": {},
   "source": [
    "$$ d\\left( p,q\\right)   = \\sqrt {\\sum _{i=1}^{n}  \\left( q_{i}-p_{i}\\right)^2 } $$"
   ]
  },
  {
   "cell_type": "code",
   "execution_count": 3,
   "id": "be5352a5",
   "metadata": {},
   "outputs": [],
   "source": [
    "def calEuclideanDistance(pA, pB):\n",
    "    dist_square = np.sum((pA - pB) ** 2, axis=1)\n",
    "    return np.sqrt(dist_square)"
   ]
  },
  {
   "cell_type": "markdown",
   "id": "b53494e4",
   "metadata": {},
   "source": [
    "# Assign labels of cluster indices to which each pixels belong"
   ]
  },
  {
   "cell_type": "code",
   "execution_count": 4,
   "id": "a5b327f1",
   "metadata": {},
   "outputs": [],
   "source": [
    "def kmeans_assign_labels(img_1d, centroid):\n",
    "    distances = []\n",
    "    for c in centroid:\n",
    "        # Distance between each elements in img_1d vs centroid[i] in Euclidean distance\n",
    "        distance = calEuclideanDistance(img_1d, c)\n",
    "        distances.append(distance)\n",
    "    # convert list to np.ndarray\n",
    "    distances = np.array(distances)\n",
    "    # Return the indices of clusters which each pixels with minimum distances to all centroids belong to\n",
    "    return np.argmin(distances.T, axis = 1)"
   ]
  },
  {
   "cell_type": "markdown",
   "id": "025423b0",
   "metadata": {},
   "source": [
    "# Update centroids to get the centroids close to the center of cluster"
   ]
  },
  {
   "cell_type": "code",
   "execution_count": 5,
   "id": "402a3abf",
   "metadata": {},
   "outputs": [],
   "source": [
    "def kmeans_update_centers(img_1d, label, k_clusters, num_channels):\n",
    "    centroids = np.zeros((k_clusters, num_channels))\n",
    "    for k in range(k_clusters):\n",
    "        labelOfPoints = label == k\n",
    "        centroid_k = img_1d[labelOfPoints, :]\n",
    "        # Take average of all datapoints belong to cluster k\n",
    "        if len(centroid_k) != 0:\n",
    "            centroids[k, :] = np.mean(centroid_k, axis = 0) \n",
    "        else: continue\n",
    "    return centroids"
   ]
  },
  {
   "cell_type": "markdown",
   "id": "460eeb1c",
   "metadata": {},
   "source": [
    "# Check if the new centroids are close to previous centroids"
   ]
  },
  {
   "cell_type": "code",
   "execution_count": 6,
   "id": "458b3ce7",
   "metadata": {},
   "outputs": [],
   "source": [
    "def has_converged(centers, new_centers):\n",
    "    # if we have absolute(centers[i] - new_centers[i]) <= atol(=1) => the difference of two RGBs are less than 1\n",
    "    # we can approve these both RGBs are the same.\n",
    "    return np.allclose(centers, new_centers, atol = 1)"
   ]
  },
  {
   "cell_type": "markdown",
   "id": "a9aaa74f",
   "metadata": {},
   "source": [
    "# KMeans algorithm which return centroids and labels of each pixels"
   ]
  },
  {
   "cell_type": "code",
   "execution_count": 7,
   "id": "76abd7d0",
   "metadata": {},
   "outputs": [],
   "source": [
    "def kmeans(img_1d, k_clusters, max_iter, init_centroids='random'):\n",
    "    # Get 3 dimensions (height, width, num_channels) information of image\n",
    "    height = img_1d.shape[0]\n",
    "    width = img_1d.shape[1]\n",
    "    num_channels = img_1d.shape[2]\n",
    "    # Because the original image_array have 3 dimensions so we have to reshape it to 2 dimensions\n",
    "    img_1d = img_1d.reshape(height * width, num_channels)\n",
    "    # Create k_clusters centroids with init_centroids = 'random' or 'in_pixels'\n",
    "    centroids = [kmeans_init_centers(img_1d, k_clusters, init_centroids)]\n",
    "    labels = []\n",
    "    while max_iter:\n",
    "        labels.append(kmeans_assign_labels(img_1d, centroids[-1]))\n",
    "        new_centroids = kmeans_update_centers(img_1d, labels[-1], k_clusters, num_channels)\n",
    "        if has_converged(centroids[-1], new_centroids): break\n",
    "        centroids.append(new_centroids)\n",
    "        max_iter -= 1\n",
    "    return (centroids, labels)"
   ]
  },
  {
   "cell_type": "markdown",
   "id": "302f5213",
   "metadata": {},
   "source": [
    "# Get new image array with new centroids and labels of each pixels"
   ]
  },
  {
   "cell_type": "code",
   "execution_count": null,
   "id": "d3364056",
   "metadata": {},
   "outputs": [],
   "source": [
    "def get_new_image(img_1d, k_clusters, centroid, label):\n",
    "    # Get 3 dimensions (height, width, num_channels) information of image\n",
    "    height = image_array.shape[0]\n",
    "    width = image_array.shape[1]\n",
    "    num_channels = image_array.shape[2]\n",
    "    # Because the original image_array have 3 dimensions so we have to reshape it to 2 dimensions\n",
    "    img_1d = img_1d.reshape(height * width, num_channels)\n",
    "    # Initialize new image array with 0 and then adding the cluster index (=centroid[k]) to each pixels\n",
    "    new_img = np.zeros((img_1d.shape[0], img_1d.shape[1]))\n",
    "    # Get the new image array with k_clusters centroids assigned to each pixels.\n",
    "    for k in range(k_clusters):\n",
    "        new_img[label == k, :] += centroid[k]\n",
    "    new_img = new_img.reshape(height, width, num_channels)\n",
    "    return new_img"
   ]
  },
  {
   "cell_type": "markdown",
   "id": "1ba5e03d",
   "metadata": {},
   "source": [
    "# Main function"
   ]
  },
  {
   "cell_type": "code",
   "execution_count": null,
   "id": "812db716",
   "metadata": {
    "scrolled": false
   },
   "outputs": [],
   "source": [
    "if __name__ == '__main__':\n",
    "    image_name = input('Please enter name of image: ')\n",
    "    image = Image.open(image_name)\n",
    "    image_array = np.array(image)\n",
    "    k_clusters = 7\n",
    "    max_iter = 1000\n",
    "    init_centroids = 'in_pixels'\n",
    "    (centroids, labels) = kmeans(image_array, k_clusters, max_iter, init_centroids)\n",
    "    \n",
    "    print('My new centroids:')\n",
    "    print(centroids[-1])\n",
    "    print('\\nMy new labels:')\n",
    "    print(labels[-1])\n",
    "    new_img = get_new_image(image_array, k_clusters, centroids[-1], labels[-1])\n",
    "    \n",
    "    # Use imshow in matplotlib.plot module\n",
    "    plt.imshow(new_img.astype('uint8'))\n",
    "    fig1 = plt.gcf()\n",
    "    plt.show()\n",
    "    image_name = image_name.split('.')\n",
    "    export_type = int(input('\\nPlease enter image format you want to export (0 for .png, 1 for .pdf): '))\n",
    "    if export_type == 0:\n",
    "        fig1.savefig(image_name[0] + '.png')\n",
    "    if export_type == 1:\n",
    "        fig1.savefig(image_name[0] + '.pdf')\n",
    "\n",
    "    tmp = image_array.copy()\n",
    "    tmp = tmp.reshape(tmp.shape[0] * tmp.shape[1], tmp.shape[2])\n",
    "    test_data = KMeans(n_clusters = k_clusters, random_state=0).fit(tmp)\n",
    "    print('\\nSklearn centroid:\\n', test_data.cluster_centers_ )\n",
    "    print('\\nSklearn labels:\\n', test_data.labels_ )\n",
    "    new_img_test = get_new_image(image_array, k_clusters, test_data.cluster_centers_, test_data.labels_)\n",
    "    plt.imshow(new_img_test.astype('uint8'))\n",
    "    plt.show()"
   ]
  },
  {
   "cell_type": "code",
   "execution_count": null,
   "id": "e0d97a71",
   "metadata": {},
   "outputs": [],
   "source": []
  }
 ],
 "metadata": {
  "kernelspec": {
   "display_name": "Python 3 (ipykernel)",
   "language": "python",
   "name": "python3"
  },
  "language_info": {
   "codemirror_mode": {
    "name": "ipython",
    "version": 3
   },
   "file_extension": ".py",
   "mimetype": "text/x-python",
   "name": "python",
   "nbconvert_exporter": "python",
   "pygments_lexer": "ipython3",
   "version": "3.9.12"
  }
 },
 "nbformat": 4,
 "nbformat_minor": 5
}
